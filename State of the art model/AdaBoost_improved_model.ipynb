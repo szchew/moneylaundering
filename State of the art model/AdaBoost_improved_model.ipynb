{
  "cells": [
    {
      "cell_type": "code",
      "execution_count": 30,
      "metadata": {
        "id": "pudeYkjadvK_"
      },
      "outputs": [],
      "source": [
        "from sklearn.ensemble import AdaBoostClassifier\n",
        "from sklearn.tree import DecisionTreeClassifier\n",
        "from sklearn.datasets import load_breast_cancer\n",
        "from sklearn.model_selection import train_test_split\n",
        "from sklearn.metrics import confusion_matrix\n",
        "from sklearn.utils import shuffle\n",
        "from sklearn.svm import SVC\n",
        "from sklearn.model_selection import GridSearchCV\n",
        "from sklearn.preprocessing import LabelEncoder, OneHotEncoder\n",
        "from sklearn.metrics import roc_curve, auc, make_scorer, average_precision_score\n",
        "import pandas as pd\n",
        "import numpy as np"
      ]
    },
    {
      "cell_type": "markdown",
      "metadata": {
        "id": "NG8i0esJeQq-"
      },
      "source": [
        "load dataset (edit accordingly)"
      ]
    },
    {
      "cell_type": "code",
      "execution_count": 31,
      "metadata": {
        "colab": {
          "base_uri": "https://localhost:8080/"
        },
        "id": "lykoAPd8wDnC",
        "outputId": "24369f9a-25c8-419e-d375-6e719aa1069a"
      },
      "outputs": [
        {
          "name": "stdout",
          "output_type": "stream",
          "text": [
            "finished reading\n",
            "                    6             7        8         9       10         11  \\\n",
            "1762198  1.157409e-11  1.157409e-11  0.37774  0.622260  0.37774       0.00   \n",
            "4047335  7.763263e-09  7.763263e-09  0.37774  0.622260  0.37774       0.00   \n",
            "1515656  1.568094e-10  1.568094e-10  0.37774  0.622259  0.37774 -934077.12   \n",
            "3586364  2.429059e-09  2.429059e-09  0.37774  0.622260  0.37774    1316.41   \n",
            "3208197  3.507589e-12  3.507589e-12  0.37774  0.622260  0.37774     -81.45   \n",
            "...               ...           ...      ...       ...      ...        ...   \n",
            "4556949  7.258418e-09  7.258418e-09  0.37774  0.622260  0.37774       0.00   \n",
            "3959195  3.708957e-09  3.708957e-09  0.37774  0.622260  0.37774   -1927.85   \n",
            "200813   1.824138e-10  1.824138e-10  0.37774  0.622260  0.37774  -70996.01   \n",
            "2100628  2.202136e-10  2.202136e-10  0.37774  0.622260  0.37774     195.91   \n",
            "1250689  2.327243e-09  2.327243e-09  0.37774  0.622260  0.37774    2150.94   \n",
            "\n",
            "          12            13   14   15  ...   42   43   44   45   46   47   48  \\\n",
            "1762198  0.0  1.153410e+03  0.0  0.0  ...  0.0  0.0  0.0  0.0  0.0  0.0  0.0   \n",
            "4047335  0.0  1.514321e+06  0.0  0.0  ...  0.0  0.0  0.0  0.0  1.0  0.0  0.0   \n",
            "1515656  0.0  3.213724e+07  0.0  0.0  ...  0.0  0.0  0.0  0.0  0.0  1.0  0.0   \n",
            "3586364  0.0  4.650124e+06  0.0  0.0  ...  0.0  0.0  1.0  0.0  0.0  0.0  0.0   \n",
            "3208197  0.0  7.190700e+02  0.0  0.0  ...  0.0  0.0  0.0  0.0  0.0  0.0  1.0   \n",
            "...      ...           ...  ...  ...  ...  ...  ...  ...  ...  ...  ...  ...   \n",
            "4556949  0.0  1.030131e+07  0.0  0.0  ...  0.0  0.0  1.0  0.0  0.0  0.0  0.0   \n",
            "3959195  0.0  5.563385e+05  0.0  0.0  ...  0.0  0.0  1.0  0.0  0.0  0.0  0.0   \n",
            "200813   0.0  2.606938e+10  0.0  0.0  ...  0.0  0.0  0.0  0.0  0.0  0.0  1.0   \n",
            "2100628  0.0  4.491518e+05  0.0  0.0  ...  0.0  0.0  0.0  0.0  0.0  0.0  1.0   \n",
            "1250689  0.0  1.259053e+09  0.0  0.0  ...  0.0  0.0  0.0  0.0  1.0  0.0  0.0   \n",
            "\n",
            "          49   50  0  \n",
            "1762198  1.0  0.0  0  \n",
            "4047335  0.0  0.0  0  \n",
            "1515656  0.0  0.0  0  \n",
            "3586364  0.0  0.0  1  \n",
            "3208197  0.0  0.0  0  \n",
            "...      ...  ... ..  \n",
            "4556949  0.0  0.0  1  \n",
            "3959195  0.0  0.0  1  \n",
            "200813   0.0  0.0  0  \n",
            "2100628  0.0  0.0  0  \n",
            "1250689  0.0  0.0  0  \n",
            "\n",
            "[15323 rows x 46 columns]\n"
          ]
        }
      ],
      "source": [
        "def read_data(str):\n",
        "    df = pd.read_csv(str)\n",
        "    print(\"finished reading\")\n",
        "\n",
        "    label = df.iloc[:,1] \n",
        "    datas = df.iloc[:,2:]\n",
        "\n",
        "    zeros = datas[label == 0]\n",
        "    ones = datas[label > 0]\n",
        "    zerolabel = label[label == 0]\n",
        "    onelabel = label[label > 0]\n",
        "\n",
        "    train_0,test_0,train_0l,test_0l = train_test_split(zeros, zerolabel, test_size=0.998)\n",
        "\n",
        "    data_undersample = pd.concat([train_0, ones], axis=0)\n",
        "    label_undersample = pd.concat([train_0l, onelabel], axis=0)\n",
        "\n",
        "    final_data = pd.concat([data_undersample, label_undersample], axis=1)\n",
        "    final_data = shuffle(final_data)\n",
        "\n",
        "    return final_data\n",
        "\n",
        "final_df = read_data(\"all_norm.csv\")\n",
        "print(final_df)"
      ]
    },
    {
      "cell_type": "code",
      "execution_count": 32,
      "metadata": {
        "id": "e9y74SZLeW7q"
      },
      "outputs": [],
      "source": [
        "X = final_df.iloc[:,1:-1]\n",
        "y = final_df.iloc[:,-1]\n",
        "y = pd.Categorical(y)\n",
        "train_X, test_X, train_y, test_y = train_test_split(X,y)"
      ]
    },
    {
      "cell_type": "markdown",
      "metadata": {
        "id": "T0CvlVCye5GN"
      },
      "source": [
        "fit model with grid search hyperparameter"
      ]
    },
    {
      "cell_type": "code",
      "execution_count": 33,
      "metadata": {
        "colab": {
          "base_uri": "https://localhost:8080/",
          "height": 248
        },
        "id": "KEGYckdIeju6",
        "outputId": "4d2d9203-292e-4d2f-c8dd-3c19bab8f354"
      },
      "outputs": [
        {
          "name": "stdout",
          "output_type": "stream",
          "text": [
            "Fitting 5 folds for each of 80 candidates, totalling 400 fits\n"
          ]
        },
        {
          "data": {
            "text/plain": [
              "GridSearchCV(estimator=AdaBoostClassifier(base_estimator=DecisionTreeClassifier()),\n",
              "             n_jobs=-1,\n",
              "             param_grid={'base_estimator__max_depth': [2, 4, 6, 8, 10],\n",
              "                         'base_estimator__min_samples_leaf': [5, 10],\n",
              "                         'learning_rate': [0.01, 0.1],\n",
              "                         'n_estimators': [10, 50, 250, 1000]},\n",
              "             scoring=make_scorer(average_precision_score), verbose=3)"
            ]
          },
          "execution_count": 33,
          "metadata": {},
          "output_type": "execute_result"
        }
      ],
      "source": [
        "abc = AdaBoostClassifier(base_estimator=DecisionTreeClassifier())\n",
        "\n",
        "parameters = {'base_estimator__max_depth':[i for i in range(2,11,2)],\n",
        "              'base_estimator__min_samples_leaf':[5,10],\n",
        "              'n_estimators':[10,50,250,1000],\n",
        "              'learning_rate':[0.01,0.1]}\n",
        "\n",
        "classifier = GridSearchCV(abc, parameters,verbose=3,scoring=make_scorer(average_precision_score, greater_is_better=True),n_jobs=-1)\n",
        "\n",
        "classifier.fit(train_X, train_y)"
      ]
    },
    {
      "cell_type": "markdown",
      "metadata": {
        "id": "noHc1M2wfF86"
      },
      "source": [
        "make prediction and evaluate"
      ]
    },
    {
      "cell_type": "code",
      "execution_count": 36,
      "metadata": {
        "colab": {
          "background_save": true
        },
        "id": "_scfpR5Ke-Dp",
        "outputId": "5fe72f66-cb6a-41fa-af1e-77259304bce7"
      },
      "outputs": [],
      "source": [
        "# ​predictions = classifier.predict(test_X)\n",
        "predictions = classifier.predict(test_X)"
      ]
    },
    {
      "cell_type": "code",
      "execution_count": 38,
      "metadata": {
        "colab": {
          "background_save": true
        },
        "id": "_uyGlaSJfPyl"
      },
      "outputs": [
        {
          "name": "stdout",
          "output_type": "stream",
          "text": [
            "{'base_estimator__max_depth': 4, 'base_estimator__min_samples_leaf': 10, 'learning_rate': 0.01, 'n_estimators': 1000}\n"
          ]
        },
        {
          "data": {
            "text/plain": [
              "array([[2310,  212],\n",
              "       [ 168, 1141]], dtype=int64)"
            ]
          },
          "execution_count": 38,
          "metadata": {},
          "output_type": "execute_result"
        }
      ],
      "source": [
        "print(classifier.best_params_)\n",
        "confusion_matrix(test_y, predictions)"
      ]
    }
  ],
  "metadata": {
    "colab": {
      "provenance": []
    },
    "kernelspec": {
      "display_name": "Python 3.7.13 ('ee2211')",
      "language": "python",
      "name": "python3"
    },
    "language_info": {
      "codemirror_mode": {
        "name": "ipython",
        "version": 3
      },
      "file_extension": ".py",
      "mimetype": "text/x-python",
      "name": "python",
      "nbconvert_exporter": "python",
      "pygments_lexer": "ipython3",
      "version": "3.7.13"
    },
    "vscode": {
      "interpreter": {
        "hash": "bf3e47354a1d2e3e944f6f7c0f922ff18540b2222ea8934a382dc56b071460d7"
      }
    }
  },
  "nbformat": 4,
  "nbformat_minor": 0
}
